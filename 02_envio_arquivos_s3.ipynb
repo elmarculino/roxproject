{
 "cells": [
  {
   "cell_type": "markdown",
   "metadata": {},
   "source": [
    "## Envio dos arquivos CSV para o S3 usando client Python"
   ]
  },
  {
   "cell_type": "code",
   "execution_count": null,
   "metadata": {},
   "outputs": [],
   "source": [
    "import pandas as pd\n",
    "import boto3\n",
    "import json\n",
    "import logging\n",
    "\n",
    "from pathlib import Path\n",
    "from botocore.exceptions import ClientError\n",
    "\n",
    "import warnings\n",
    "warnings.filterwarnings('ignore')"
   ]
  },
  {
   "cell_type": "markdown",
   "metadata": {},
   "source": [
    "### Carregar parametros do arquivo de configuração"
   ]
  },
  {
   "cell_type": "code",
   "execution_count": null,
   "metadata": {},
   "outputs": [],
   "source": [
    "import configparser\n",
    "config = configparser.ConfigParser()\n",
    "config.read_file(open('dwh.cfg'))\n",
    "\n",
    "KEY                    = config.get('AWS','KEY')\n",
    "SECRET                 = config.get('AWS','SECRET')"
   ]
  },
  {
   "cell_type": "markdown",
   "metadata": {},
   "source": [
    "### Criar cliente S3"
   ]
  },
  {
   "cell_type": "code",
   "execution_count": null,
   "metadata": {},
   "outputs": [],
   "source": [
    "s3 = boto3.resource('s3',\n",
    "                       region_name=\"us-east-1\",\n",
    "                       aws_access_key_id=KEY,\n",
    "                       aws_secret_access_key=SECRET\n",
    "                   )"
   ]
  },
  {
   "cell_type": "markdown",
   "metadata": {},
   "source": [
    "### Fazer upload dos arquivos para o bucket S3"
   ]
  },
  {
   "cell_type": "code",
   "execution_count": null,
   "metadata": {},
   "outputs": [],
   "source": [
    "path = Path('data')\n",
    "files = [str(file) for file in path.iterdir()]"
   ]
  },
  {
   "cell_type": "code",
   "execution_count": null,
   "metadata": {},
   "outputs": [
    {
     "data": {
      "text/plain": [
       "['data/Sales.SalesOrderDetail.csv',\n",
       " 'data/Sales.SalesOrderHeader.csv',\n",
       " 'data/Sales.Customer.csv',\n",
       " 'data/Person.Person.csv',\n",
       " 'data/Sales.SpecialOfferProduct.csv',\n",
       " 'data/Production.Product.csv']"
      ]
     },
     "execution_count": null,
     "metadata": {},
     "output_type": "execute_result"
    }
   ],
   "source": [
    "files"
   ]
  },
  {
   "cell_type": "code",
   "execution_count": null,
   "metadata": {},
   "outputs": [],
   "source": [
    "def upload_file(file_name, bucket, object_name=None):\n",
    "    \"\"\"Upload a file to an S3 bucket\n",
    "\n",
    "    :param file_name: File to upload\n",
    "    :param bucket: Bucket to upload to\n",
    "    :param object_name: S3 object name. If not specified then file_name is used\n",
    "    :return: True if file was uploaded, else False\n",
    "    \"\"\"\n",
    "\n",
    "    # If S3 object_name was not specified, use file_name\n",
    "    if object_name is None:\n",
    "        object_name = file_name\n",
    "\n",
    "    # Upload the file\n",
    "    s3_client = boto3.client('s3')\n",
    "    try:\n",
    "        response = s3_client.upload_file(file_name, bucket, object_name)\n",
    "    except ClientError as e:\n",
    "        logging.error(e)\n",
    "        return False\n",
    "    return True\n",
    "\n",
    "# https://boto3.amazonaws.com/v1/documentation/api/latest/guide/s3-uploading-files.html"
   ]
  },
  {
   "cell_type": "code",
   "execution_count": null,
   "metadata": {},
   "outputs": [],
   "source": [
    "bucket = 'roxproject'\n",
    "\n",
    "for file_name in files:    \n",
    "    upload_file(file_name, bucket)"
   ]
  },
  {
   "cell_type": "code",
   "execution_count": null,
   "metadata": {},
   "outputs": [
    {
     "name": "stdout",
     "output_type": "stream",
     "text": [
      "s3.ObjectSummary(bucket_name='roxproject', key='data/Person.Person.csv')\n",
      "s3.ObjectSummary(bucket_name='roxproject', key='data/Production.Product.csv')\n",
      "s3.ObjectSummary(bucket_name='roxproject', key='data/Sales.Customer.csv')\n",
      "s3.ObjectSummary(bucket_name='roxproject', key='data/Sales.SalesOrderDetail.csv')\n",
      "s3.ObjectSummary(bucket_name='roxproject', key='data/Sales.SalesOrderHeader.csv')\n",
      "s3.ObjectSummary(bucket_name='roxproject', key='data/Sales.SpecialOfferProduct.csv')\n",
      "s3.ObjectSummary(bucket_name='roxproject', key='raw_data/Person.Person.csv')\n",
      "s3.ObjectSummary(bucket_name='roxproject', key='raw_data/Production.Product.csv')\n",
      "s3.ObjectSummary(bucket_name='roxproject', key='raw_data/Sales.Customer.csv')\n",
      "s3.ObjectSummary(bucket_name='roxproject', key='raw_data/Sales.SalesOrderDetail.csv')\n",
      "s3.ObjectSummary(bucket_name='roxproject', key='raw_data/Sales.SalesOrderHeader.csv')\n",
      "s3.ObjectSummary(bucket_name='roxproject', key='raw_data/Sales.SpecialOfferProduct.csv')\n"
     ]
    }
   ],
   "source": [
    "roxProjectBucket = s3.Bucket(bucket)\n",
    "for obj in roxProjectBucket.objects.all():\n",
    "    print(obj)"
   ]
  },
  {
   "cell_type": "code",
   "execution_count": null,
   "metadata": {},
   "outputs": [],
   "source": []
  }
 ],
 "metadata": {
  "kernelspec": {
   "display_name": "Python 3",
   "language": "python",
   "name": "python3"
  }
 },
 "nbformat": 4,
 "nbformat_minor": 4
}
