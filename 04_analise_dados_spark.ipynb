{
 "cells": [
  {
   "cell_type": "code",
   "execution_count": null,
   "metadata": {},
   "outputs": [],
   "source": [
    "import findspark"
   ]
  },
  {
   "cell_type": "code",
   "execution_count": null,
   "metadata": {},
   "outputs": [],
   "source": [
    "findspark.init()"
   ]
  },
  {
   "cell_type": "code",
   "execution_count": null,
   "metadata": {},
   "outputs": [],
   "source": [
    "from pyspark.sql import SparkSession, SQLContext\n",
    "from pyspark.sql.functions import regexp_replace\n",
    "\n",
    "spark = SparkSession.builder.appName('roxproject').getOrCreate()\n",
    "sc =  spark.sparkContext\n",
    "sqlContext = SQLContext(sc)"
   ]
  },
  {
   "cell_type": "code",
   "execution_count": null,
   "metadata": {},
   "outputs": [],
   "source": [
    "df_person = spark.read.csv('data/Person.Person.csv', \n",
    "                            sep=';', inferSchema=True, header=True)"
   ]
  },
  {
   "cell_type": "code",
   "execution_count": null,
   "metadata": {},
   "outputs": [],
   "source": [
    "df_person.createOrReplaceTempView('Person')"
   ]
  },
  {
   "cell_type": "code",
   "execution_count": null,
   "metadata": {},
   "outputs": [],
   "source": [
    "df_product = spark.read.csv('data/Production.Product.csv', \n",
    "                            sep=';', inferSchema=True, header=True)"
   ]
  },
  {
   "cell_type": "code",
   "execution_count": null,
   "metadata": {},
   "outputs": [],
   "source": [
    "df_product.createOrReplaceTempView('Product')"
   ]
  },
  {
   "cell_type": "code",
   "execution_count": null,
   "metadata": {},
   "outputs": [],
   "source": [
    "df_costumer = spark.read.csv('data/Sales.Customer.csv', \n",
    "                            sep=';', inferSchema=True, header=True)"
   ]
  },
  {
   "cell_type": "code",
   "execution_count": null,
   "metadata": {},
   "outputs": [],
   "source": [
    "df_costumer.createOrReplaceTempView('Customer')"
   ]
  },
  {
   "cell_type": "code",
   "execution_count": null,
   "metadata": {},
   "outputs": [],
   "source": [
    "df_orderdetail = spark.read.csv('data/Sales.SalesOrderDetail.csv', \n",
    "                            sep=';', inferSchema=True, header=True)"
   ]
  },
  {
   "cell_type": "code",
   "execution_count": null,
   "metadata": {},
   "outputs": [],
   "source": [
    "df_orderdetail.createOrReplaceTempView('SalesOrderDetail')"
   ]
  },
  {
   "cell_type": "code",
   "execution_count": null,
   "metadata": {},
   "outputs": [],
   "source": [
    "df_orderheader = spark.read.csv('data/Sales.SalesOrderHeader.csv', \n",
    "                            sep=';', inferSchema=True, header=True)"
   ]
  },
  {
   "cell_type": "code",
   "execution_count": null,
   "metadata": {},
   "outputs": [],
   "source": [
    "df_orderheader = df_orderheader.withColumn('TotalDue', regexp_replace('TotalDue', ',', '.'))\n",
    "df_orderheader = df_orderheader.withColumn('TotalDue', df_orderheader['TotalDue'].cast(\"float\"))"
   ]
  },
  {
   "cell_type": "code",
   "execution_count": null,
   "metadata": {},
   "outputs": [],
   "source": [
    "df_orderheader.createOrReplaceTempView('SalesOrderHeader')"
   ]
  },
  {
   "cell_type": "code",
   "execution_count": null,
   "metadata": {},
   "outputs": [],
   "source": [
    "df_specialoffer = spark.read.csv('data/Sales.SpecialOfferProduct.csv', \n",
    "                            sep=';', inferSchema=True, header=True)"
   ]
  },
  {
   "cell_type": "code",
   "execution_count": null,
   "metadata": {},
   "outputs": [],
   "source": [
    "df_specialoffer.createOrReplaceTempView('SpecialOfferProduct')"
   ]
  },
  {
   "cell_type": "markdown",
   "metadata": {},
   "source": [
    "### Análise de Dados"
   ]
  },
  {
   "cell_type": "markdown",
   "metadata": {},
   "source": [
    "1. Escreva uma query que retorna a quantidade de linhas na tabela Sales.SalesOrderDetail pelo campo SalesOrderID, desde que tenham pelo menos três linhas de detalhes.\n",
    "    "
   ]
  },
  {
   "cell_type": "code",
   "execution_count": null,
   "metadata": {},
   "outputs": [
    {
     "name": "stdout",
     "output_type": "stream",
     "text": [
      "+--------+\n",
      "|OrderQty|\n",
      "+--------+\n",
      "|12757   |\n",
      "+--------+\n",
      "\n"
     ]
    }
   ],
   "source": [
    "query = \"\"\"\n",
    "    SELECT COUNT(SalesOrderID) AS OrderQty\n",
    "    FROM (\n",
    "        SELECT SalesOrderID, COUNT(SalesOrderID) AS Qty\n",
    "        FROM SalesOrderDetail\n",
    "        GROUP BY SalesOrderID\n",
    "    )\n",
    "    WHERE Qty > 2\n",
    "\"\"\"\n",
    "\n",
    "sqlContext.sql(query).show(100, False)"
   ]
  },
  {
   "cell_type": "markdown",
   "metadata": {},
   "source": [
    "2. Escreva uma query que ligue as tabelas Sales.SalesOrderDetail, Sales.SpecialOfferProduct e Production.Product e retorne os 3 produtos (Name) mais vendidos (pela soma de OrderQty), agrupados pelo número de dias para manufatura (DaysToManufacture)."
   ]
  },
  {
   "cell_type": "code",
   "execution_count": null,
   "metadata": {},
   "outputs": [
    {
     "name": "stdout",
     "output_type": "stream",
     "text": [
      "+----------------------+-------------+-----------------+\n",
      "|Name                  |OrderQtyTotal|DaysToManufacture|\n",
      "+----------------------+-------------+-----------------+\n",
      "|AWC Logo Cap          |8311         |0                |\n",
      "|Water Bottle - 30 oz. |6815         |0                |\n",
      "|Sport-100 Helmet, Blue|6743         |0                |\n",
      "+----------------------+-------------+-----------------+\n",
      "\n"
     ]
    }
   ],
   "source": [
    "query = \"\"\"\n",
    "    SELECT Name, SUM(OrderQty) AS OrderQtyTotal, DaysToManufacture\n",
    "    FROM Product AS P\n",
    "    JOIN SalesOrderDetail AS D ON D.ProductID = P.ProductID\n",
    "    JOIN SpecialOfferProduct AS S ON S.ProductID = P.ProductID \n",
    "        AND S.SpecialOfferID = D.SpecialOfferID\n",
    "    GROUP BY Name, DaysToManufacture\n",
    "    ORDER BY OrderQtyTotal DESC\n",
    "    LIMIT 3\n",
    "\"\"\"\n",
    "\n",
    "sqlContext.sql(query).show(100, False)"
   ]
  },
  {
   "cell_type": "markdown",
   "metadata": {},
   "source": [
    "3. Escreva uma query ligando as tabelas Person.Person, Sales.Customer e Sales.SalesOrderHeader de forma a obter uma lista de nomes de clientes e uma contagem de pedidos efetuados."
   ]
  },
  {
   "cell_type": "code",
   "execution_count": null,
   "metadata": {},
   "outputs": [
    {
     "name": "stdout",
     "output_type": "stream",
     "text": [
      "+------------------+--------+\n",
      "|Name              |OrderQty|\n",
      "+------------------+--------+\n",
      "|Dalton Perez      |28      |\n",
      "|Mason D Roberts   |28      |\n",
      "|Jennifer Simmons  |27      |\n",
      "|Samantha Jenkins  |27      |\n",
      "|Hailey I Patterson|27      |\n",
      "|Henry B Garcia    |27      |\n",
      "|Jason L Griffin   |27      |\n",
      "|Ashley Henderson  |27      |\n",
      "|Fernando Barnes   |27      |\n",
      "|Charles P Jackson |27      |\n",
      "|Daniel Davis      |27      |\n",
      "|Nancy E Chapman   |27      |\n",
      "|Ryan M Thompson   |27      |\n",
      "|April L Shan      |25      |\n",
      "|Samantha Russell  |17      |\n",
      "|Gina E Martin     |17      |\n",
      "|Luke L Lal        |17      |\n",
      "|Luis D Diaz       |17      |\n",
      "|Chloe Campbell    |17      |\n",
      "|Ana Perry         |17      |\n",
      "+------------------+--------+\n",
      "only showing top 20 rows\n",
      "\n"
     ]
    }
   ],
   "source": [
    "query = \"\"\"\n",
    "    SELECT CONCAT_WS(' ', FirstName, NULLIF(MiddleName, 'NULL'), LastName) AS Name,\n",
    "        COUNT(SalesOrderID) AS OrderQty\n",
    "    FROM Person AS P\n",
    "    JOIN Customer AS C ON C.PersonID = P.BusinessEntityID \n",
    "    JOIN SalesOrderHeader AS S ON C.CustomerID = S.CustomerID\n",
    "    GROUP BY Name\n",
    "    ORDER BY OrderQty DESC\n",
    "\"\"\"\n",
    "\n",
    "sqlContext.sql(query).show(20, False)"
   ]
  },
  {
   "cell_type": "markdown",
   "metadata": {},
   "source": [
    "4. Escreva uma query usando as tabelas Sales.SalesOrderHeader, Sales.SalesOrderDetail e Production.Product, de forma a obter a soma total de produtos (OrderQty) por ProductID e OrderDate.\n",
    "    "
   ]
  },
  {
   "cell_type": "code",
   "execution_count": null,
   "metadata": {},
   "outputs": [
    {
     "name": "stdout",
     "output_type": "stream",
     "text": [
      "+---------+-------------------+-------------+\n",
      "|ProductID|OrderDate          |OrderQtyTotal|\n",
      "+---------+-------------------+-------------+\n",
      "|864      |2013-06-30 00:00:00|498          |\n",
      "|864      |2013-07-31 00:00:00|465          |\n",
      "|884      |2013-06-30 00:00:00|444          |\n",
      "|867      |2013-06-30 00:00:00|427          |\n",
      "|864      |2014-03-31 00:00:00|424          |\n",
      "|884      |2013-07-31 00:00:00|420          |\n",
      "|712      |2013-06-30 00:00:00|415          |\n",
      "|863      |2012-06-30 00:00:00|409          |\n",
      "|715      |2013-06-30 00:00:00|406          |\n",
      "|876      |2013-07-31 00:00:00|397          |\n",
      "|864      |2014-05-01 00:00:00|383          |\n",
      "|864      |2013-09-30 00:00:00|383          |\n",
      "|864      |2013-10-30 00:00:00|380          |\n",
      "|869      |2013-07-31 00:00:00|374          |\n",
      "|712      |2013-07-31 00:00:00|363          |\n",
      "|876      |2013-06-30 00:00:00|363          |\n",
      "|863      |2013-03-30 00:00:00|358          |\n",
      "|863      |2012-05-30 00:00:00|357          |\n",
      "|867      |2013-07-31 00:00:00|356          |\n",
      "|715      |2013-07-31 00:00:00|354          |\n",
      "+---------+-------------------+-------------+\n",
      "only showing top 20 rows\n",
      "\n"
     ]
    }
   ],
   "source": [
    "query = \"\"\"\n",
    "    SELECT P.ProductID, OrderDate, SUM(OrderQty) AS OrderQtyTotal\n",
    "    FROM Product AS P\n",
    "    JOIN SalesOrderDetail AS D ON D.ProductID = P.ProductID\n",
    "    JOIN SalesOrderHeader AS S ON D.SalesOrderID = S.SalesOrderID\n",
    "    GROUP BY P.ProductID, OrderDate\n",
    "    ORDER BY OrderQtyTotal DESC\n",
    "\"\"\"\n",
    "\n",
    "sqlContext.sql(query).show(20, False)"
   ]
  },
  {
   "cell_type": "markdown",
   "metadata": {},
   "source": [
    "5. Escreva uma query mostrando os campos SalesOrderID, OrderDate e TotalDue da tabela Sales.SalesOrderHeader. Obtenha apenas as linhas onde a ordem tenha sido feita durante o mês de setembro/2011 e o total devido esteja acima de 1.000. Ordene pelo total devido decrescente."
   ]
  },
  {
   "cell_type": "code",
   "execution_count": null,
   "metadata": {},
   "outputs": [
    {
     "name": "stdout",
     "output_type": "stream",
     "text": [
      "+------------+-------------------+---------+\n",
      "|SalesOrderID|OrderDate          |TotalDue |\n",
      "+------------+-------------------+---------+\n",
      "|44381       |2011-09-11 00:00:00|3953.9883|\n",
      "|44440       |2011-09-22 00:00:00|3953.9883|\n",
      "|44385       |2011-09-11 00:00:00|3953.9883|\n",
      "|44439       |2011-09-22 00:00:00|3953.9883|\n",
      "|44386       |2011-09-11 00:00:00|3953.9883|\n",
      "|44327       |2011-09-02 00:00:00|3953.9883|\n",
      "|44388       |2011-09-11 00:00:00|3953.9883|\n",
      "|44329       |2011-09-02 00:00:00|3953.9883|\n",
      "|44389       |2011-09-11 00:00:00|3953.9883|\n",
      "|44331       |2011-09-03 00:00:00|3953.9883|\n",
      "|44390       |2011-09-11 00:00:00|3953.9883|\n",
      "|44334       |2011-09-04 00:00:00|3953.9883|\n",
      "|44391       |2011-09-11 00:00:00|3953.9883|\n",
      "|44339       |2011-09-04 00:00:00|3953.9883|\n",
      "|44392       |2011-09-11 00:00:00|3953.9883|\n",
      "|44343       |2011-09-05 00:00:00|3953.9883|\n",
      "|44394       |2011-09-12 00:00:00|3953.9883|\n",
      "|44345       |2011-09-06 00:00:00|3953.9883|\n",
      "|44395       |2011-09-12 00:00:00|3953.9883|\n",
      "|44348       |2011-09-07 00:00:00|3953.9883|\n",
      "|44398       |2011-09-12 00:00:00|3953.9883|\n",
      "|44350       |2011-09-07 00:00:00|3953.9883|\n",
      "|44399       |2011-09-13 00:00:00|3953.9883|\n",
      "|44352       |2011-09-07 00:00:00|3953.9883|\n",
      "|44400       |2011-09-13 00:00:00|3953.9883|\n",
      "|44358       |2011-09-07 00:00:00|3953.9883|\n",
      "|44401       |2011-09-13 00:00:00|3953.9883|\n",
      "|44360       |2011-09-08 00:00:00|3953.9883|\n",
      "|44402       |2011-09-14 00:00:00|3953.9883|\n",
      "|44362       |2011-09-08 00:00:00|3953.9883|\n",
      "|44404       |2011-09-15 00:00:00|3953.9883|\n",
      "|44365       |2011-09-08 00:00:00|3953.9883|\n",
      "|44405       |2011-09-15 00:00:00|3953.9883|\n",
      "|44368       |2011-09-09 00:00:00|3953.9883|\n",
      "|44406       |2011-09-15 00:00:00|3953.9883|\n",
      "|44370       |2011-09-09 00:00:00|3953.9883|\n",
      "|44410       |2011-09-16 00:00:00|3953.9883|\n",
      "|44372       |2011-09-09 00:00:00|3953.9883|\n",
      "|44411       |2011-09-16 00:00:00|3953.9883|\n",
      "|44374       |2011-09-10 00:00:00|3953.9883|\n",
      "|44413       |2011-09-17 00:00:00|3953.9883|\n",
      "|44377       |2011-09-10 00:00:00|3953.9883|\n",
      "|44414       |2011-09-17 00:00:00|3953.9883|\n",
      "|44324       |2011-09-01 00:00:00|3953.9883|\n",
      "|44415       |2011-09-17 00:00:00|3953.9883|\n",
      "|44384       |2011-09-11 00:00:00|3953.9883|\n",
      "|44417       |2011-09-17 00:00:00|3953.9883|\n",
      "|44328       |2011-09-02 00:00:00|3953.9883|\n",
      "|44418       |2011-09-17 00:00:00|3953.9883|\n",
      "|44332       |2011-09-03 00:00:00|3953.9883|\n",
      "+------------+-------------------+---------+\n",
      "only showing top 50 rows\n",
      "\n"
     ]
    }
   ],
   "source": [
    "query = \"\"\"\n",
    "    SELECT SalesOrderID, OrderDate, TotalDue\n",
    "    FROM SalesOrderHeader\n",
    "    WHERE OrderDate >= '2011-09-01 00:00:00'\n",
    "    AND OrderDate < '2011-10-01 00:00:00'\n",
    "    AND TotalDue > 1000\n",
    "    ORDER BY TotalDue DESC\n",
    "\"\"\"\n",
    "\n",
    "sqlContext.sql(query).show(20, False)"
   ]
  },
  {
   "cell_type": "code",
   "execution_count": null,
   "metadata": {},
   "outputs": [],
   "source": []
  },
  {
   "cell_type": "code",
   "execution_count": null,
   "metadata": {},
   "outputs": [],
   "source": []
  },
  {
   "cell_type": "code",
   "execution_count": null,
   "metadata": {},
   "outputs": [],
   "source": []
  }
 ],
 "metadata": {
  "kernelspec": {
   "display_name": "Python 3",
   "language": "python",
   "name": "python3"
  }
 },
 "nbformat": 4,
 "nbformat_minor": 4
}
