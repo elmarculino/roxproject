{
 "cells": [
  {
   "cell_type": "markdown",
   "id": "c8d9e213-a62e-47fc-9f9e-63041747fe5e",
   "metadata": {},
   "source": [
    "#### Imports"
   ]
  },
  {
   "cell_type": "code",
   "execution_count": 2,
   "id": "492094ff-e316-426c-bb2f-1f70828c19ec",
   "metadata": {},
   "outputs": [],
   "source": [
    "import psycopg2\n",
    "import configparser\n",
    "import csv\n",
    "\n",
    "from pathlib import Path"
   ]
  },
  {
   "cell_type": "markdown",
   "id": "a4f78fda-ad99-487f-aaba-3d9f5219676a",
   "metadata": {},
   "source": [
    "#### Carregar parametros da conexão com o banco de dados do arquivo de configuração"
   ]
  },
  {
   "cell_type": "code",
   "execution_count": 3,
   "id": "e6a08cc9-4b4b-4afc-af27-3a83dbd50972",
   "metadata": {},
   "outputs": [],
   "source": [
    "config = configparser.ConfigParser()\n",
    "config.read_file(open('dwh.cfg'))\n",
    "\n",
    "PGSQL_HOST        = config.get(\"PGSQL\",\"PGSQL_HOST\")\n",
    "PGSQL_PORT        = config.get(\"PGSQL\",\"PGSQL_PORT\")\n",
    "PGSQL_DBNAME      = config.get(\"PGSQL\",\"PGSQL_DBNAME\")\n",
    "PGSQL_USER        = config.get(\"PGSQL\",\"PGSQL_USER\")\n",
    "PGSQL_PASSWORD    = config.get(\"PGSQL\",\"PGSQL_PASSWORD\")"
   ]
  },
  {
   "cell_type": "markdown",
   "id": "21ee9961-4186-43dd-9507-7e2c93cdd737",
   "metadata": {},
   "source": [
    "#### Criar a conexão com o banco PostgresSQL"
   ]
  },
  {
   "cell_type": "code",
   "execution_count": 4,
   "id": "a3950bd8-af99-4970-ad14-0526e175dba6",
   "metadata": {},
   "outputs": [],
   "source": [
    "# Create a connection\n",
    "try: \n",
    "    conn = psycopg2.connect(f\"host={PGSQL_HOST} dbname={PGSQL_DBNAME} user={PGSQL_USER} password={PGSQL_PASSWORD}\")\n",
    "except psycopg2.Error as e: \n",
    "    print(\"Error: Could not make connection to the Postgres database\")\n",
    "    print(e)\n",
    "    \n",
    "# get a cursor    \n",
    "try: \n",
    "    cur = conn.cursor()\n",
    "except psycopg2.Error as e: \n",
    "    print(\"Error: Could not get curser to the Database\")\n",
    "    print(e)\n",
    "    \n",
    "# set the autocommit to true    \n",
    "conn.set_session(autocommit=True)"
   ]
  },
  {
   "cell_type": "markdown",
   "id": "0a4c3839-bf61-4859-ba72-6c1f43e87853",
   "metadata": {},
   "source": [
    "### CREATE TABLE Queries"
   ]
  },
  {
   "cell_type": "code",
   "execution_count": 7,
   "id": "79be3c4b-7947-4de1-9023-0ce189a4ede9",
   "metadata": {},
   "outputs": [],
   "source": [
    "person_table = \"\"\"\n",
    "    CREATE TABLE IF NOT EXISTS Person\n",
    "    (\n",
    "        BusinessEntityID INTEGER NOT NULL,\n",
    "        PersonType VARCHAR(10),\n",
    "        NameStyle INTEGER,\n",
    "        Title VARCHAR(10),\n",
    "        FirstName VARCHAR(50),\n",
    "        MiddleName VARCHAR(50),\n",
    "        LastName VARCHAR(50),\n",
    "        Suffix VARCHAR(10),\n",
    "        EmailPromotion INTEGER,\n",
    "        AdditionalContactInfo VARCHAR(2000),\n",
    "        Demographics VARCHAR(1000),\n",
    "        rowguid VARCHAR(36),\n",
    "        ModifiedDate TIMESTAMP,\n",
    "        PRIMARY KEY(BusinessEntityID)\n",
    "    )\n",
    "\"\"\"\n",
    "\n",
    "product_table = \"\"\"\n",
    "    CREATE TABLE IF NOT EXISTS Product\n",
    "    (\n",
    "        ProductID INTEGER NOT NULL,\n",
    "        Name VARCHAR(50),\n",
    "        ProductNumber VARCHAR(10),\n",
    "        MakeFlag INTEGER,\n",
    "        FinishedGoodsFlag INTEGER,\n",
    "        Color VARCHAR(20),\n",
    "        SafetyStockLevel INTEGER,\n",
    "        ReorderPoint INTEGER,\n",
    "        StandardCost FLOAT,\n",
    "        ListPrice FLOAT,\n",
    "        Size VARCHAR(10),\n",
    "        SizeUnitMeasureCode VARCHAR(10),\n",
    "        WeightUnitMeasureCode VARCHAR(10),\n",
    "        Weight FLOAT,\n",
    "        DaysToManufacture INTEGER,\n",
    "        ProductLine VARCHAR(10),\n",
    "        Class VARCHAR(10),\n",
    "        Style VARCHAR(10),\n",
    "        ProductSubcategoryID INTEGER,\n",
    "        ProductModelID INTEGER,\n",
    "        SellStartDate TIMESTAMP,\n",
    "        SellEndDate TIMESTAMP,\n",
    "        DiscontinuedDate TIMESTAMP,\n",
    "        rowguid VARCHAR(36),\n",
    "        ModifiedDate TIMESTAMP,\n",
    "        PRIMARY KEY (ProductID)\n",
    "    )\n",
    "\"\"\"\n",
    "\n",
    "customer_table = \"\"\"\n",
    "    CREATE TABLE IF NOT EXISTS Customer\n",
    "    (\n",
    "        CustomerID INTEGER NOT NULL,\n",
    "        PersonID INTEGER,\n",
    "        StoreID INTEGER,\n",
    "        TerritoryID INTEGER,\n",
    "        AccountNumber VARCHAR(10),\n",
    "        rowguid VARCHAR(36),\n",
    "        ModifiedDate TIMESTAMP,\n",
    "        PRIMARY KEY (CustomerID),\n",
    "        FOREIGN KEY (PersonID) REFERENCES Person(BusinessEntityID)\n",
    "    )\n",
    "\"\"\"\n",
    "\n",
    "salesorderheader_table = \"\"\"\n",
    "    CREATE TABLE IF NOT EXISTS SalesOrderHeader\n",
    "    (\n",
    "        SalesOrderID INTEGER NOT NULL,\n",
    "        RevisionNumber INTEGER,\n",
    "        OrderDate TIMESTAMP,\n",
    "        DueDate TIMESTAMP,\n",
    "        ShipDate TIMESTAMP,\n",
    "        Status INTEGER,\n",
    "        OnlineOrderFlag INTEGER,\n",
    "        SalesOrderNumber VARCHAR(10),\n",
    "        PurchaseOrderNumber VARCHAR(20),\n",
    "        AccountNumber VARCHAR(20),\n",
    "        CustomerID INTEGER,\n",
    "        SalesPersonID INTEGER,\n",
    "        TerritoryID INTEGER,\n",
    "        BillToAddressID INTEGER,\n",
    "        ShipToAddressID INTEGER,\n",
    "        ShipMethodID INTEGER,\n",
    "        CreditCardID INTEGER,\n",
    "        CreditCardApprovalCode VARCHAR(20),\n",
    "        CurrencyRateID INTEGER,\n",
    "        SubTotal FLOAT,\n",
    "        TaxAmt FLOAT,\n",
    "        Freight FLOAT,\n",
    "        TotalDue FLOAT,\n",
    "        Comment VARCHAR(10),\n",
    "        rowguid VARCHAR(36),\n",
    "        ModifiedDate TIMESTAMP,\n",
    "        PRIMARY KEY (SalesOrderID),\n",
    "        FOREIGN KEY (CustomerID) REFERENCES Customer(CustomerID)\n",
    "    )\n",
    "\"\"\"\n",
    "\n",
    "specialofferproduct_table = \"\"\"\n",
    "    CREATE TABLE IF NOT EXISTS SpecialOfferProduct\n",
    "    (\n",
    "        SpecialOfferID INTEGER NOT NULL,\n",
    "        ProductID INTEGER NOT NULL,\n",
    "        rowguid VARCHAR(36),\n",
    "        ModifiedDate TIMESTAMP,\n",
    "        PRIMARY KEY (SpecialOfferID, ProductID),\n",
    "        FOREIGN KEY (ProductID) REFERENCES Product(ProductID)\n",
    "    )\n",
    "\"\"\"\n",
    "\n",
    "salesorderdetail_table = \"\"\"\n",
    "    CREATE TABLE IF NOT EXISTS SalesOrderDetail\n",
    "    (\n",
    "        SalesOrderID INTEGER NOT NULL,\n",
    "        SalesOrderDetailID INTEGER NOT NULL,\n",
    "        CarrierTrackingNumber VARCHAR(20),\n",
    "        OrderQty INTEGER,\n",
    "        ProductID INTEGER,\n",
    "        SpecialOfferID INTEGER,\n",
    "        UnitPrice FLOAT,\n",
    "        UnitPriceDiscount FLOAT,\n",
    "        LineTotal FLOAT,\n",
    "        rowguid VARCHAR(36),\n",
    "        ModifiedDate TIMESTAMP,\n",
    "        PRIMARY KEY (SalesOrderID, SalesOrderDetailID),\n",
    "        FOREIGN KEY (SalesOrderID) \n",
    "            REFERENCES SalesOrderHeader(SalesOrderID),\n",
    "        FOREIGN KEY (SpecialOfferID, ProductID) \n",
    "            REFERENCES SpecialOfferProduct(SpecialOfferID, ProductID),\n",
    "        FOREIGN KEY (ProductID) \n",
    "            REFERENCES Product(ProductID)\n",
    "    )\n",
    "\"\"\"\n",
    "\n",
    "create_queries = [ \n",
    "    person_table, \n",
    "    product_table, \n",
    "    customer_table, \n",
    "    salesorderheader_table, \n",
    "    specialofferproduct_table,\n",
    "    salesorderdetail_table\n",
    "]"
   ]
  },
  {
   "cell_type": "markdown",
   "id": "d27dd50c-5557-4e32-8c08-89b025e00e0c",
   "metadata": {},
   "source": [
    "#### Criar Tabelas"
   ]
  },
  {
   "cell_type": "code",
   "execution_count": 8,
   "id": "deae3ee4-718e-46ab-a0f2-f94d4125039b",
   "metadata": {},
   "outputs": [],
   "source": [
    "for query in create_queries:\n",
    "    try: \n",
    "        cur.execute(query)\n",
    "    except psycopg2.Error as e: \n",
    "        print(\"Error: Issue creating table\")\n",
    "        print (e)   "
   ]
  },
  {
   "cell_type": "markdown",
   "id": "52815e40-577d-411a-9b4f-ca5627392654",
   "metadata": {},
   "source": [
    "### Importação dos dados para as tabelas criadas"
   ]
  },
  {
   "cell_type": "markdown",
   "id": "730842d6-791e-4631-b057-c1baad098ee1",
   "metadata": {},
   "source": [
    "#### Person"
   ]
  },
  {
   "cell_type": "code",
   "execution_count": 9,
   "id": "ad537ba7-326c-4d1a-a733-28b05e9e4f74",
   "metadata": {},
   "outputs": [],
   "source": [
    "try: \n",
    "    with open('data/Person.Person.csv', 'r') as f:\n",
    "        reader = csv.reader(f, delimiter=';')\n",
    "        next(reader) # Skip the header row.\n",
    "        for row in reader:\n",
    "            cur.execute(\n",
    "            \"INSERT INTO Person VALUES (%s, %s, %s, %s, %s, %s, %s, %s, %s, %s, %s, %s, %s)\",\n",
    "            [None if x == 'NULL' else x for x in row])\n",
    "except psycopg2.Error as e: \n",
    "    print(\"Error: Inserting Rows\")\n",
    "    print (e)"
   ]
  },
  {
   "cell_type": "markdown",
   "id": "a165f623-0f51-4253-a162-602a5ab08545",
   "metadata": {},
   "source": [
    "#### Product"
   ]
  },
  {
   "cell_type": "code",
   "execution_count": 10,
   "id": "dd117c41-721d-4bc3-b078-a6bc24a943a0",
   "metadata": {},
   "outputs": [],
   "source": [
    "try: \n",
    "    with open('data/Production.Product.csv', 'r') as f:\n",
    "        reader = csv.reader(f, delimiter=';')\n",
    "        next(reader) # Skip the header row.\n",
    "        for row in reader:\n",
    "            row[8] = row[8].replace(',', '.')\n",
    "            row[9] = row[9].replace(',', '.')\n",
    "            row[13] = row[13].replace(',', '.')\n",
    "            cur.execute(\n",
    "            \"INSERT INTO Product VALUES (%s, %s, %s, %s, %s, %s, %s, %s, %s, %s, %s, %s, %s, %s, %s, %s, %s, %s, %s, %s, %s, %s, %s, %s, %s)\",\n",
    "            [None if x == 'NULL' else x for x in row])\n",
    "except psycopg2.Error as e: \n",
    "    print(\"Error: Inserting Rows\")\n",
    "    print (e)"
   ]
  },
  {
   "cell_type": "markdown",
   "id": "35d80a13-aca2-4450-b1aa-c3aabf11cbcc",
   "metadata": {},
   "source": [
    "#### Customer"
   ]
  },
  {
   "cell_type": "code",
   "execution_count": 11,
   "id": "3a996751-1eef-44ef-b4ed-3bfdcdf5bbe6",
   "metadata": {},
   "outputs": [],
   "source": [
    "try: \n",
    "    with open('data/Sales.Customer.csv', 'r') as f:\n",
    "        reader = csv.reader(f, delimiter=';')\n",
    "        next(reader) # Skip the header row.\n",
    "        for row in reader:\n",
    "            cur.execute(\n",
    "            \"INSERT INTO Customer VALUES (%s, %s, %s, %s, %s, %s, %s)\",\n",
    "            [None if x == 'NULL' else x for x in row])\n",
    "except psycopg2.Error as e: \n",
    "    print(\"Error: Inserting Rows\")\n",
    "    print (e)"
   ]
  },
  {
   "cell_type": "markdown",
   "id": "672a886f-424a-46f2-8be2-977b7aea80e6",
   "metadata": {},
   "source": [
    "#### SalesOrderHeader"
   ]
  },
  {
   "cell_type": "code",
   "execution_count": 12,
   "id": "0fde9c8b-b299-43da-a587-bd6333a78a5e",
   "metadata": {},
   "outputs": [],
   "source": [
    "try: \n",
    "    with open('data/Sales.SalesOrderHeader.csv', 'r') as f:\n",
    "        reader = csv.reader(f, delimiter=';')\n",
    "        next(reader) # Skip the header row.\n",
    "        for row in reader:\n",
    "            row[19] = row[19].replace(',', '.')\n",
    "            row[20] = row[20].replace(',', '.')\n",
    "            row[21] = row[21].replace(',', '.')\n",
    "            row[22] = row[22].replace(',', '.')\n",
    "            cur.execute(\n",
    "            \"INSERT INTO SalesOrderHeader VALUES (%s, %s, %s, %s, %s, %s, %s, %s, %s, %s, %s, %s, %s, %s, %s, %s, %s, %s, %s, %s, %s, %s, %s, %s, %s, %s)\",\n",
    "            [None if x == 'NULL' else x for x in row])\n",
    "except psycopg2.Error as e: \n",
    "    print(\"Error: Inserting Rows\")\n",
    "    print (e)"
   ]
  },
  {
   "cell_type": "markdown",
   "id": "5acf353f-c598-483f-8601-460364d26f5a",
   "metadata": {},
   "source": [
    "#### SpecialOfferProduct"
   ]
  },
  {
   "cell_type": "code",
   "execution_count": 13,
   "id": "83ee7fcf-3727-4c02-985c-697e174ab690",
   "metadata": {},
   "outputs": [],
   "source": [
    "try: \n",
    "    with open('data/Sales.SpecialOfferProduct.csv', 'r') as f:\n",
    "        reader = csv.reader(f, delimiter=';')\n",
    "        next(reader) # Skip the header row.\n",
    "        for row in reader:\n",
    "            cur.execute(\n",
    "            \"INSERT INTO SpecialOfferProduct VALUES (%s, %s, %s, %s)\",\n",
    "            [None if x == 'NULL' else x for x in row])\n",
    "except psycopg2.Error as e: \n",
    "    print(\"Error: Inserting Rows\")\n",
    "    print (e)"
   ]
  },
  {
   "cell_type": "markdown",
   "id": "392e867c-b21d-47bb-a7cf-ccb8720ce19b",
   "metadata": {},
   "source": [
    "#### SalesOrderDetail"
   ]
  },
  {
   "cell_type": "code",
   "execution_count": 14,
   "id": "0df14a3e-c129-4706-b2de-da1c0601efb9",
   "metadata": {},
   "outputs": [],
   "source": [
    "try: \n",
    "    with open('data/Sales.SalesOrderDetail.csv', 'r') as f:\n",
    "        reader = csv.reader(f, delimiter=';')\n",
    "        next(reader) # Skip the header row.\n",
    "        for row in reader:\n",
    "            row[6] = row[6].replace(',', '.')\n",
    "            row[7] = row[7].replace(',', '.')\n",
    "            row[8] = row[8].replace(',', '.')\n",
    "            cur.execute(\n",
    "            \"INSERT INTO SalesOrderDetail VALUES (%s, %s, %s, %s, %s, %s, %s, %s, %s, %s, %s)\",\n",
    "            [None if x == 'NULL' else x for x in row])\n",
    "except psycopg2.Error as e: \n",
    "    print(\"Error: Inserting Rows\")\n",
    "    print (e)"
   ]
  },
  {
   "cell_type": "markdown",
   "id": "7fdf9239-21b3-43cf-9cd5-c2ab4ca3ea15",
   "metadata": {},
   "source": [
    "### Checando Dados Importados"
   ]
  },
  {
   "cell_type": "code",
   "execution_count": 15,
   "id": "03067a08-2694-4cab-b684-9de40edd1880",
   "metadata": {},
   "outputs": [],
   "source": [
    "table_names = [\n",
    "    'Person',\n",
    "    'Product',\n",
    "    'Customer',\n",
    "    'SalesOrderHeader', \n",
    "    'SpecialOfferProduct', \n",
    "    'SalesOrderDetail',\n",
    "]                    "
   ]
  },
  {
   "cell_type": "code",
   "execution_count": 16,
   "id": "a69a3d88-6960-4cc4-b227-5a783305b562",
   "metadata": {},
   "outputs": [],
   "source": [
    "def check_row(table_name):\n",
    "    try: \n",
    "        cur.execute(f\"SELECT * FROM {table_name} LIMIT 1;\")\n",
    "    except psycopg2.Error as e: \n",
    "        print(\"Error: select *\")\n",
    "        print (e)\n",
    "\n",
    "    print(cur.fetchall())\n",
    "    \n",
    "    \n",
    "def check_qty(table_name):\n",
    "    try: \n",
    "        cur.execute(f\"SELECT count(*) FROM {table_name};\")\n",
    "    except psycopg2.Error as e: \n",
    "        print(\"Error: select *\")\n",
    "        print (e)\n",
    "\n",
    "    print(cur.fetchall())"
   ]
  },
  {
   "cell_type": "code",
   "execution_count": 17,
   "id": "da7b860c-7e47-4a58-8660-e29f95b85b4e",
   "metadata": {},
   "outputs": [
    {
     "name": "stdout",
     "output_type": "stream",
     "text": [
      "Checking table Person\n",
      "[(19972,)]\n",
      "[(1, 'EM', 0, None, 'Ken', 'J', 'Sánchez', None, 0, None, '<IndividualSurvey xmlns=\"http://schemas.microsoft.com/sqlserver/2004/07/adventure-works/IndividualSurvey\"><TotalPurchaseYTD>0</TotalPurchaseYTD></IndividualSurvey>', '92C4279F-1207-48A3-8448-4636514EB7E2', datetime.datetime(2009, 1, 7, 0, 0))]\n",
      "+------------------------+\n",
      "Checking table Product\n",
      "[(504,)]\n",
      "[(1, 'Adjustable Race', 'AR-5381', 0, 0, None, 1000, 750, 0.0, 0.0, None, None, None, None, 0, None, None, None, None, None, datetime.datetime(2008, 4, 30, 0, 0), None, None, '694215B7-08F7-4C0D-ACB1-D734BA44C0C8', datetime.datetime(2014, 2, 8, 10, 1, 36, 827000))]\n",
      "+------------------------+\n",
      "Checking table Customer\n",
      "[(19820,)]\n",
      "[(1, None, 934, 1, 'AW00000001', '3F5AE95E-B87D-4AED-95B4-C3797AFCB74F', datetime.datetime(2014, 9, 12, 11, 15, 7, 263000))]\n",
      "+------------------------+\n",
      "Checking table SalesOrderHeader\n",
      "[(31465,)]\n",
      "[(43659, 8, datetime.datetime(2011, 5, 31, 0, 0), datetime.datetime(2011, 6, 12, 0, 0), datetime.datetime(2011, 6, 7, 0, 0), 5, 0, 'SO43659', 'PO522145787', '10-4020-000676', 29825, 279, 5, 985, 985, 5, 16281, '105041Vi84182', None, 20565.6206, 1971.5149, 616.0984, 23153.2339, None, '79B65321-39CA-4115-9CBA-8FE0903E12E6', datetime.datetime(2011, 6, 7, 0, 0))]\n",
      "+------------------------+\n",
      "Checking table SpecialOfferProduct\n",
      "[(538,)]\n",
      "[(1, 680, 'BB30B868-D86C-4557-8DB2-4B2D0A83A0FB', datetime.datetime(2011, 4, 1, 0, 0))]\n",
      "+------------------------+\n",
      "Checking table SalesOrderDetail\n",
      "[(121317,)]\n",
      "[(43659, 1, '4911-403C-98', 1, 776, 1, 2024.994, 0.0, 2024.994, 'B207C96D-D9E6-402B-8470-2CC176C42283', datetime.datetime(2011, 5, 31, 0, 0))]\n",
      "+------------------------+\n"
     ]
    }
   ],
   "source": [
    "for name in table_names:\n",
    "    print(f\"Checking table {name}\")\n",
    "    check_qty(name)\n",
    "    check_row(name)\n",
    "    print(\"+------------------------+\")    \n",
    "    "
   ]
  },
  {
   "cell_type": "code",
   "execution_count": null,
   "id": "32051c12-ddee-4f15-a09a-fd0bf1f5499e",
   "metadata": {},
   "outputs": [],
   "source": []
  },
  {
   "cell_type": "code",
   "execution_count": 25,
   "id": "84f28ca3-1e50-49fb-a4ac-4751d0eaaadc",
   "metadata": {},
   "outputs": [],
   "source": [
    "query = \"\"\"\n",
    "    SELECT COUNT(SalesOrderID) AS OrderQty\n",
    "    FROM (\n",
    "        SELECT SalesOrderID, COUNT(SalesOrderID) AS Qty\n",
    "        FROM SalesOrderDetail\n",
    "        GROUP BY SalesOrderID\n",
    "    ) AS sub\n",
    "    WHERE Qty > 2\n",
    "\"\"\""
   ]
  },
  {
   "cell_type": "code",
   "execution_count": 26,
   "id": "69a40f7b-b276-494e-9c2e-9ab152cbac1a",
   "metadata": {},
   "outputs": [
    {
     "name": "stdout",
     "output_type": "stream",
     "text": [
      "[(12757,)]\n"
     ]
    }
   ],
   "source": [
    "cur.execute(query)\n",
    "print(cur.fetchall())"
   ]
  },
  {
   "cell_type": "code",
   "execution_count": 27,
   "id": "60d74ea8-4143-4dad-8177-c1031453af1f",
   "metadata": {},
   "outputs": [],
   "source": [
    "query = \"\"\"\n",
    "    SELECT Name, SUM(OrderQty) AS OrderQtyTotal, DaysToManufacture\n",
    "    FROM Product AS P\n",
    "    JOIN SalesOrderDetail AS D ON D.ProductID = P.ProductID\n",
    "    JOIN SpecialOfferProduct AS S ON S.ProductID = P.ProductID \n",
    "        AND S.SpecialOfferID = D.SpecialOfferID\n",
    "    GROUP BY Name, DaysToManufacture\n",
    "    ORDER BY OrderQtyTotal DESC\n",
    "    LIMIT 3\n",
    "\"\"\""
   ]
  },
  {
   "cell_type": "code",
   "execution_count": 28,
   "id": "4bdaa252-67c2-46b8-8d19-d987bc3228b0",
   "metadata": {},
   "outputs": [
    {
     "name": "stdout",
     "output_type": "stream",
     "text": [
      "('AWC Logo Cap', 8311, 0)\n",
      "('Water Bottle - 30 oz.', 6815, 0)\n",
      "('Sport-100 Helmet, Blue', 6743, 0)\n"
     ]
    }
   ],
   "source": [
    "cur.execute(query)\n",
    "\n",
    "row = cur.fetchone()\n",
    "while row:\n",
    "   print(row)\n",
    "   row = cur.fetchone()"
   ]
  },
  {
   "cell_type": "code",
   "execution_count": null,
   "id": "77e96066-5962-45cb-b1c8-9baae448b3cc",
   "metadata": {},
   "outputs": [],
   "source": []
  },
  {
   "cell_type": "markdown",
   "id": "f1097edf-690e-4a63-9c95-8e60a28cb295",
   "metadata": {},
   "source": [
    "### Apagar Tabelas (USE APENAS SE APÓS FINALIZAR ANÁLISE!!!)"
   ]
  },
  {
   "cell_type": "code",
   "execution_count": 6,
   "id": "df1761a1-2d94-4baa-8fb9-814e38acb3c2",
   "metadata": {},
   "outputs": [],
   "source": [
    "try: \n",
    "    cur.execute(\"\"\"\n",
    "                DROP TABLE \n",
    "                    SalesOrderDetail, \n",
    "                    SpecialOfferProduct, \n",
    "                    SalesOrderHeader, \n",
    "                    Customer,\n",
    "                    Product,\n",
    "                    Person;\n",
    "                \"\"\")\n",
    "except psycopg2.Error as e: \n",
    "    print(\"Error: Dropping table\")\n",
    "    print (e)"
   ]
  },
  {
   "cell_type": "code",
   "execution_count": null,
   "id": "2d2e4b03-4e5d-4d2d-b08d-31598a07cc67",
   "metadata": {},
   "outputs": [],
   "source": []
  }
 ],
 "metadata": {
  "kernelspec": {
   "display_name": "Python 3",
   "language": "python",
   "name": "python3"
  },
  "language_info": {
   "codemirror_mode": {
    "name": "ipython",
    "version": 3
   },
   "file_extension": ".py",
   "mimetype": "text/x-python",
   "name": "python",
   "nbconvert_exporter": "python",
   "pygments_lexer": "ipython3",
   "version": "3.9.4"
  }
 },
 "nbformat": 4,
 "nbformat_minor": 5
}
