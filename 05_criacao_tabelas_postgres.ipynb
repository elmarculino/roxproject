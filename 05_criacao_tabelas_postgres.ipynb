{
 "cells": [
  {
   "cell_type": "markdown",
   "id": "0a9c66c2",
   "metadata": {},
   "source": [
    "#### Imports"
   ]
  },
  {
   "cell_type": "code",
   "execution_count": null,
   "id": "db810916",
   "metadata": {},
   "outputs": [],
   "source": [
    "import psycopg2\n",
    "import configparser\n",
    "import csv\n",
    "\n",
    "from pathlib import Path"
   ]
  },
  {
   "cell_type": "markdown",
   "id": "d5f437e9",
   "metadata": {},
   "source": [
    "#### Carregar parametros da conexão com o banco de dados do arquivo de configuração"
   ]
  },
  {
   "cell_type": "code",
   "execution_count": null,
   "id": "47c37e75",
   "metadata": {},
   "outputs": [],
   "source": [
    "config = configparser.ConfigParser()\n",
    "config.read_file(open('dwh.cfg'))\n",
    "\n",
    "PGSQL_HOST        = config.get(\"PGSQL\",\"PGSQL_HOST\")\n",
    "PGSQL_PORT        = config.get(\"PGSQL\",\"PGSQL_PORT\")\n",
    "PGSQL_DBNAME      = config.get(\"PGSQL\",\"PGSQL_DBNAME\")\n",
    "PGSQL_USER        = config.get(\"PGSQL\",\"PGSQL_USER\")\n",
    "PGSQL_PASSWORD    = config.get(\"PGSQL\",\"PGSQL_PASSWORD\")"
   ]
  },
  {
   "cell_type": "markdown",
   "id": "9bd11ff4",
   "metadata": {},
   "source": [
    "#### Criar a conexão com o banco PostgresSQL"
   ]
  },
  {
   "cell_type": "code",
   "execution_count": null,
   "id": "ee1292ee",
   "metadata": {},
   "outputs": [],
   "source": [
    "# Create a connection\n",
    "try: \n",
    "    conn = psycopg2.connect(f\"host={PGSQL_HOST} dbname={PGSQL_DBNAME} user={PGSQL_USER} password={PGSQL_PASSWORD}\")\n",
    "except psycopg2.Error as e: \n",
    "    print(\"Error: Could not make connection to the Postgres database\")\n",
    "    print(e)\n",
    "    \n",
    "# get a cursor    \n",
    "try: \n",
    "    cur = conn.cursor()\n",
    "except psycopg2.Error as e: \n",
    "    print(\"Error: Could not get curser to the Database\")\n",
    "    print(e)\n",
    "    \n",
    "# set the autocommit to true    \n",
    "conn.set_session(autocommit=True)"
   ]
  },
  {
   "cell_type": "markdown",
   "id": "88a81cec",
   "metadata": {},
   "source": [
    "### CREATE TABLE Queries"
   ]
  },
  {
   "cell_type": "code",
   "execution_count": null,
   "id": "ac5f9d54",
   "metadata": {},
   "outputs": [],
   "source": [
    "person_table = \"\"\"\n",
    "    CREATE TABLE IF NOT EXISTS Person\n",
    "    (\n",
    "        BusinessEntityID INTEGER NOT NULL,\n",
    "        PersonType VARCHAR(10),\n",
    "        NameStyle INTEGER,\n",
    "        Title VARCHAR(10),\n",
    "        FirstName VARCHAR(50),\n",
    "        MiddleName VARCHAR(50),\n",
    "        LastName VARCHAR(50),\n",
    "        Suffix VARCHAR(10),\n",
    "        EmailPromotion INTEGER,\n",
    "        AdditionalContactInfo VARCHAR(2000),\n",
    "        Demographics VARCHAR(1000),\n",
    "        rowguid VARCHAR(36),\n",
    "        ModifiedDate TIMESTAMP,\n",
    "        PRIMARY KEY(BusinessEntityID)\n",
    "    )\n",
    "\"\"\"\n",
    "\n",
    "product_table = \"\"\"\n",
    "    CREATE TABLE IF NOT EXISTS Product\n",
    "    (\n",
    "        ProductID INTEGER NOT NULL,\n",
    "        Name VARCHAR(50),\n",
    "        ProductNumber VARCHAR(10),\n",
    "        MakeFlag INTEGER,\n",
    "        FinishedGoodsFlag INTEGER,\n",
    "        Color VARCHAR(20),\n",
    "        SafetyStockLevel INTEGER,\n",
    "        ReorderPoint INTEGER,\n",
    "        StandardCost FLOAT,\n",
    "        ListPrice FLOAT,\n",
    "        Size VARCHAR(10),\n",
    "        SizeUnitMeasureCode VARCHAR(10),\n",
    "        WeightUnitMeasureCode VARCHAR(10),\n",
    "        Weight FLOAT,\n",
    "        DaysToManufacture INTEGER,\n",
    "        ProductLine VARCHAR(10),\n",
    "        Class VARCHAR(10),\n",
    "        Style VARCHAR(10),\n",
    "        ProductSubcategoryID INTEGER,\n",
    "        ProductModelID INTEGER,\n",
    "        SellStartDate TIMESTAMP,\n",
    "        SellEndDate TIMESTAMP,\n",
    "        DiscontinuedDate TIMESTAMP,\n",
    "        rowguid VARCHAR(36),\n",
    "        ModifiedDate TIMESTAMP,\n",
    "        PRIMARY KEY (ProductID)\n",
    "    )\n",
    "\"\"\"\n",
    "\n",
    "customer_table = \"\"\"\n",
    "    CREATE TABLE IF NOT EXISTS Customer\n",
    "    (\n",
    "        CustomerID INTEGER NOT NULL,\n",
    "        PersonID INTEGER,\n",
    "        StoreID INTEGER,\n",
    "        TerritoryID INTEGER,\n",
    "        AccountNumber VARCHAR(10),\n",
    "        rowguid VARCHAR(36),\n",
    "        ModifiedDate TIMESTAMP,\n",
    "        PRIMARY KEY (CustomerID),\n",
    "        FOREIGN KEY (PersonID) REFERENCES Person(BusinessEntityID)\n",
    "    )\n",
    "\"\"\"\n",
    "\n",
    "salesorderheader_table = \"\"\"\n",
    "    CREATE TABLE IF NOT EXISTS SalesOrderHeader\n",
    "    (\n",
    "        SalesOrderID INTEGER NOT NULL,\n",
    "        RevisionNumber INTEGER,\n",
    "        OrderDate TIMESTAMP,\n",
    "        DueDate TIMESTAMP,\n",
    "        ShipDate TIMESTAMP,\n",
    "        Status INTEGER,\n",
    "        OnlineOrderFlag INTEGER,\n",
    "        SalesOrderNumber VARCHAR(10),\n",
    "        PurchaseOrderNumber VARCHAR(20),\n",
    "        AccountNumber VARCHAR(20),\n",
    "        CustomerID INTEGER,\n",
    "        SalesPersonID INTEGER,\n",
    "        TerritoryID INTEGER,\n",
    "        BillToAddressID INTEGER,\n",
    "        ShipToAddressID INTEGER,\n",
    "        ShipMethodID INTEGER,\n",
    "        CreditCardID INTEGER,\n",
    "        CreditCardApprovalCode VARCHAR(20),\n",
    "        CurrencyRateID INTEGER,\n",
    "        SubTotal FLOAT,\n",
    "        TaxAmt FLOAT,\n",
    "        Freight FLOAT,\n",
    "        TotalDue FLOAT,\n",
    "        Comment VARCHAR(10),\n",
    "        rowguid VARCHAR(36),\n",
    "        ModifiedDate TIMESTAMP,\n",
    "        PRIMARY KEY (SalesOrderID),\n",
    "        FOREIGN KEY (CustomerID) REFERENCES Customer(CustomerID)\n",
    "    )\n",
    "\"\"\"\n",
    "\n",
    "specialofferproduct_table = \"\"\"\n",
    "    CREATE TABLE IF NOT EXISTS SpecialOfferProduct\n",
    "    (\n",
    "        SpecialOfferID INTEGER NOT NULL,\n",
    "        ProductID INTEGER NOT NULL,\n",
    "        rowguid VARCHAR(36),\n",
    "        ModifiedDate TIMESTAMP,\n",
    "        PRIMARY KEY (SpecialOfferID, ProductID),\n",
    "        FOREIGN KEY (ProductID) REFERENCES Product(ProductID)\n",
    "    )\n",
    "\"\"\"\n",
    "\n",
    "salesorderdetail_table = \"\"\"\n",
    "    CREATE TABLE IF NOT EXISTS SalesOrderDetail\n",
    "    (\n",
    "        SalesOrderID INTEGER NOT NULL,\n",
    "        SalesOrderDetailID INTEGER NOT NULL,\n",
    "        CarrierTrackingNumber VARCHAR(20),\n",
    "        OrderQty INTEGER,\n",
    "        ProductID INTEGER,\n",
    "        SpecialOfferID INTEGER,\n",
    "        UnitPrice FLOAT,\n",
    "        UnitPriceDiscount FLOAT,\n",
    "        LineTotal FLOAT,\n",
    "        rowguid VARCHAR(36),\n",
    "        ModifiedDate TIMESTAMP,\n",
    "        PRIMARY KEY (SalesOrderID, SalesOrderDetailID),\n",
    "        FOREIGN KEY (SalesOrderID) \n",
    "            REFERENCES SalesOrderHeader(SalesOrderID),\n",
    "        FOREIGN KEY (SpecialOfferID, ProductID) \n",
    "            REFERENCES SpecialOfferProduct(SpecialOfferID, ProductID),\n",
    "        FOREIGN KEY (ProductID) \n",
    "            REFERENCES Product(ProductID)\n",
    "    )\n",
    "\"\"\"\n",
    "\n",
    "create_queries = [ \n",
    "    person_table, \n",
    "    product_table, \n",
    "    customer_table, \n",
    "    salesorderheader_table, \n",
    "    specialofferproduct_table,\n",
    "    salesorderdetail_table\n",
    "]"
   ]
  },
  {
   "cell_type": "markdown",
   "id": "7f1ecba4",
   "metadata": {},
   "source": [
    "#### Criar Tabelas"
   ]
  },
  {
   "cell_type": "code",
   "execution_count": null,
   "id": "a95f03c8",
   "metadata": {},
   "outputs": [],
   "source": [
    "for query in create_queries:\n",
    "    try: \n",
    "        cur.execute(query)\n",
    "    except psycopg2.Error as e: \n",
    "        print(\"Error: Issue creating table\")\n",
    "        print (e)   "
   ]
  },
  {
   "cell_type": "markdown",
   "id": "18ffbe63",
   "metadata": {},
   "source": [
    "### Importação dos dados para as tabelas criadas"
   ]
  },
  {
   "cell_type": "markdown",
   "id": "b230d2be",
   "metadata": {},
   "source": [
    "#### Person"
   ]
  },
  {
   "cell_type": "code",
   "execution_count": null,
   "id": "62110982",
   "metadata": {},
   "outputs": [],
   "source": [
    "try: \n",
    "    with open('data/Person.Person.csv', 'r') as f:\n",
    "        reader = csv.reader(f, delimiter=';')\n",
    "        next(reader) # Skip the header row.\n",
    "        for row in reader:\n",
    "            cur.execute(\n",
    "            \"INSERT INTO Person VALUES (%s, %s, %s, %s, %s, %s, %s, %s, %s, %s, %s, %s, %s)\",\n",
    "            [None if x == 'NULL' else x for x in row])\n",
    "except psycopg2.Error as e: \n",
    "    print(\"Error: Inserting Rows\")\n",
    "    print (e)"
   ]
  },
  {
   "cell_type": "markdown",
   "id": "ec18a3d4",
   "metadata": {},
   "source": [
    "#### Product"
   ]
  },
  {
   "cell_type": "code",
   "execution_count": null,
   "id": "2bd86e6e",
   "metadata": {},
   "outputs": [],
   "source": [
    "try: \n",
    "    with open('data/Production.Product.csv', 'r') as f:\n",
    "        reader = csv.reader(f, delimiter=';')\n",
    "        next(reader) # Skip the header row.\n",
    "        for row in reader:\n",
    "            row[8] = row[8].replace(',', '.')\n",
    "            row[9] = row[9].replace(',', '.')\n",
    "            cur.execute(\n",
    "            \"INSERT INTO Product VALUES (%s, %s, %s, %s, %s, %s, %s, %s, %s, %s, %s, %s, %s, %s, %s, %s, %s, %s, %s, %s, %s, %s, %s, %s, %s)\",\n",
    "            [None if x == 'NULL' else x for x in row])\n",
    "except psycopg2.Error as e: \n",
    "    print(\"Error: Inserting Rows\")\n",
    "    print (e)"
   ]
  },
  {
   "cell_type": "markdown",
   "id": "345bfbe4",
   "metadata": {},
   "source": [
    "#### Customer"
   ]
  },
  {
   "cell_type": "code",
   "execution_count": null,
   "id": "7a2191c6",
   "metadata": {},
   "outputs": [],
   "source": [
    "try: \n",
    "    with open('data/Sales.Customer.csv', 'r') as f:\n",
    "        reader = csv.reader(f, delimiter=';')\n",
    "        next(reader) # Skip the header row.\n",
    "        for row in reader:\n",
    "            cur.execute(\n",
    "            \"INSERT INTO Customer VALUES (%s, %s, %s, %s, %s, %s, %s)\",\n",
    "            [None if x == 'NULL' else x for x in row])\n",
    "except psycopg2.Error as e: \n",
    "    print(\"Error: Inserting Rows\")\n",
    "    print (e)"
   ]
  },
  {
   "cell_type": "markdown",
   "id": "c7e87c89",
   "metadata": {},
   "source": [
    "#### SalesOrderHeader"
   ]
  },
  {
   "cell_type": "code",
   "execution_count": null,
   "id": "1ef93b2f",
   "metadata": {},
   "outputs": [],
   "source": [
    "try: \n",
    "    with open('data/Sales.SalesOrderHeader.csv', 'r') as f:\n",
    "        reader = csv.reader(f, delimiter=';')\n",
    "        next(reader) # Skip the header row.\n",
    "        for row in reader:\n",
    "            row[19] = row[19].replace(',', '.')\n",
    "            row[20] = row[20].replace(',', '.')\n",
    "            row[21] = row[21].replace(',', '.')\n",
    "            row[22] = row[22].replace(',', '.')\n",
    "            cur.execute(\n",
    "            \"INSERT INTO SalesOrderHeader VALUES (%s, %s, %s, %s, %s, %s, %s, %s, %s, %s, %s, %s, %s, %s, %s, %s, %s, %s, %s, %s, %s, %s, %s, %s, %s, %s)\",\n",
    "            [None if x == 'NULL' else x for x in row])\n",
    "except psycopg2.Error as e: \n",
    "    print(\"Error: Inserting Rows\")\n",
    "    print (e)"
   ]
  },
  {
   "cell_type": "markdown",
   "id": "df4e77c5",
   "metadata": {},
   "source": [
    "#### SpecialOfferProduct"
   ]
  },
  {
   "cell_type": "code",
   "execution_count": null,
   "id": "adbe0478",
   "metadata": {},
   "outputs": [],
   "source": [
    "try: \n",
    "    with open('data/Sales.SpecialOfferProduct.csv', 'r') as f:\n",
    "        reader = csv.reader(f, delimiter=';')\n",
    "        next(reader) # Skip the header row.\n",
    "        for row in reader:\n",
    "            cur.execute(\n",
    "            \"INSERT INTO SpecialOfferProduct VALUES (%s, %s, %s, %s)\",\n",
    "            [None if x == 'NULL' else x for x in row])\n",
    "except psycopg2.Error as e: \n",
    "    print(\"Error: Inserting Rows\")\n",
    "    print (e)"
   ]
  },
  {
   "cell_type": "markdown",
   "id": "61fbebc1",
   "metadata": {},
   "source": [
    "#### SalesOrderDetail"
   ]
  },
  {
   "cell_type": "code",
   "execution_count": null,
   "id": "4d70e23a",
   "metadata": {},
   "outputs": [],
   "source": [
    "try: \n",
    "    with open('data/Sales.SalesOrderDetail.csv', 'r') as f:\n",
    "        reader = csv.reader(f, delimiter=';')\n",
    "        next(reader) # Skip the header row.\n",
    "        for row in reader:\n",
    "            row[6] = row[6].replace(',', '.')\n",
    "            row[7] = row[7].replace(',', '.')\n",
    "            row[8] = row[8].replace(',', '.')\n",
    "            cur.execute(\n",
    "            \"INSERT INTO SalesOrderDetail VALUES (%s, %s, %s, %s, %s, %s, %s, %s, %s, %s, %s)\",\n",
    "            [None if x == 'NULL' else x for x in row])\n",
    "except psycopg2.Error as e: \n",
    "    print(\"Error: Inserting Rows\")\n",
    "    print (e)"
   ]
  },
  {
   "cell_type": "markdown",
   "id": "d7ece30a",
   "metadata": {},
   "source": [
    "### Checando Dados Importados"
   ]
  },
  {
   "cell_type": "code",
   "execution_count": null,
   "id": "73b1ef66",
   "metadata": {},
   "outputs": [],
   "source": [
    "table_names = [\n",
    "    'Person',\n",
    "    'Product',\n",
    "    'Customer',\n",
    "    'SalesOrderHeader', \n",
    "    'SpecialOfferProduct', \n",
    "    'SalesOrderDetail',\n",
    "]                    "
   ]
  },
  {
   "cell_type": "code",
   "execution_count": null,
   "id": "bfb36ca9",
   "metadata": {},
   "outputs": [],
   "source": [
    "def check_row(table_name):\n",
    "    try: \n",
    "        cur.execute(f\"SELECT * FROM {table_name} LIMIT 1;\")\n",
    "    except psycopg2.Error as e: \n",
    "        print(\"Error: select *\")\n",
    "        print (e)\n",
    "\n",
    "    print(cur.fetchall())\n",
    "    \n",
    "    \n",
    "def check_qty(table_name):\n",
    "    try: \n",
    "        cur.execute(f\"SELECT count(*) FROM {table_name};\")\n",
    "    except psycopg2.Error as e: \n",
    "        print(\"Error: select *\")\n",
    "        print (e)\n",
    "\n",
    "    print(cur.fetchall())"
   ]
  },
  {
   "cell_type": "code",
   "execution_count": null,
   "id": "8c16456f",
   "metadata": {},
   "outputs": [
    {
     "name": "stdout",
     "output_type": "stream",
     "text": [
      "Checking table Person\n",
      "[(19972,)]\n",
      "[(1, 'EM', 0, None, 'Ken', 'J', 'Sánchez', None, 0, None, '<IndividualSurvey xmlns=\"http://schemas.microsoft.com/sqlserver/2004/07/adventure-works/IndividualSurvey\"><TotalPurchaseYTD>0</TotalPurchaseYTD></IndividualSurvey>', '92C4279F-1207-48A3-8448-4636514EB7E2', datetime.datetime(2009, 1, 7, 0, 0))]\n",
      "+------------------------+\n",
      "Checking table Product\n",
      "[(504,)]\n",
      "[(1, 'Adjustable Race', 'AR-5381', 0, 0, None, 1000, 750, 0.0, 0.0, None, None, None, None, 0, None, None, None, None, None, datetime.datetime(2008, 4, 30, 0, 0), None, None, '694215B7-08F7-4C0D-ACB1-D734BA44C0C8', datetime.datetime(2014, 2, 8, 10, 1, 36, 827000))]\n",
      "+------------------------+\n",
      "Checking table Customer\n",
      "[(19820,)]\n",
      "[(1, None, 934, 1, 'AW00000001', '3F5AE95E-B87D-4AED-95B4-C3797AFCB74F', datetime.datetime(2014, 9, 12, 11, 15, 7, 263000))]\n",
      "+------------------------+\n",
      "Checking table SalesOrderHeader\n",
      "[(31465,)]\n",
      "[(43659, 8, datetime.datetime(2011, 5, 31, 0, 0), datetime.datetime(2011, 6, 12, 0, 0), datetime.datetime(2011, 6, 7, 0, 0), 5, 0, 'SO43659', 'PO522145787', '10-4020-000676', 29825, 279, 5, 985, 985, 5, 16281, '105041Vi84182', None, 20565.6206, 1971.5149, 616.0984, 23153.2339, None, '79B65321-39CA-4115-9CBA-8FE0903E12E6', datetime.datetime(2011, 6, 7, 0, 0))]\n",
      "+------------------------+\n",
      "Checking table SpecialOfferProduct\n",
      "[(538,)]\n",
      "[(1, 680, 'BB30B868-D86C-4557-8DB2-4B2D0A83A0FB', datetime.datetime(2011, 4, 1, 0, 0))]\n",
      "+------------------------+\n",
      "Checking table SalesOrderDetail\n",
      "[(121317,)]\n",
      "[(43659, 1, '4911-403C-98', 1, 776, 1, 2024.994, 0.0, 2024.994, 'B207C96D-D9E6-402B-8470-2CC176C42283', datetime.datetime(2011, 5, 31, 0, 0))]\n",
      "+------------------------+\n"
     ]
    }
   ],
   "source": [
    "for name in table_names:\n",
    "    print(f\"Checking table {name}\")\n",
    "    check_qty(name)\n",
    "    check_row(name)\n",
    "    print(\"+------------------------+\")    \n",
    "    "
   ]
  },
  {
   "cell_type": "code",
   "execution_count": null,
   "id": "05515aba",
   "metadata": {},
   "outputs": [],
   "source": []
  },
  {
   "cell_type": "code",
   "execution_count": null,
   "id": "92a2ffef",
   "metadata": {},
   "outputs": [],
   "source": [
    "query = \"\"\"\n",
    "    SELECT COUNT(SalesOrderID) AS OrderQty\n",
    "    FROM (\n",
    "        SELECT SalesOrderID, COUNT(SalesOrderID) AS Qty\n",
    "        FROM SalesOrderDetail\n",
    "        GROUP BY SalesOrderID\n",
    "    ) AS sub\n",
    "    WHERE Qty > 2\n",
    "\"\"\""
   ]
  },
  {
   "cell_type": "code",
   "execution_count": null,
   "id": "0e0cf793",
   "metadata": {},
   "outputs": [
    {
     "name": "stdout",
     "output_type": "stream",
     "text": [
      "[(12757,)]\n"
     ]
    }
   ],
   "source": [
    "cur.execute(query)\n",
    "print(cur.fetchall())"
   ]
  },
  {
   "cell_type": "code",
   "execution_count": null,
   "id": "57f8077e",
   "metadata": {},
   "outputs": [],
   "source": [
    "query = \"\"\"\n",
    "    SELECT Name, SUM(OrderQty) AS OrderQtyTotal, DaysToManufacture\n",
    "    FROM Product AS P\n",
    "    JOIN SalesOrderDetail AS D ON D.ProductID = P.ProductID\n",
    "    JOIN SpecialOfferProduct AS S ON S.ProductID = P.ProductID \n",
    "        AND S.SpecialOfferID = D.SpecialOfferID\n",
    "    GROUP BY Name, DaysToManufacture\n",
    "    ORDER BY OrderQtyTotal DESC\n",
    "    LIMIT 3\n",
    "\"\"\""
   ]
  },
  {
   "cell_type": "code",
   "execution_count": null,
   "id": "05a777a8",
   "metadata": {},
   "outputs": [
    {
     "name": "stdout",
     "output_type": "stream",
     "text": [
      "('AWC Logo Cap', 8311, 0)\n",
      "('Water Bottle - 30 oz.', 6815, 0)\n",
      "('Sport-100 Helmet, Blue', 6743, 0)\n"
     ]
    }
   ],
   "source": [
    "cur.execute(query)\n",
    "\n",
    "row = cur.fetchone()\n",
    "while row:\n",
    "   print(row)\n",
    "   row = cur.fetchone()"
   ]
  },
  {
   "cell_type": "code",
   "execution_count": null,
   "id": "0a5bdadf",
   "metadata": {},
   "outputs": [],
   "source": []
  },
  {
   "cell_type": "markdown",
   "id": "95c40f29",
   "metadata": {},
   "source": [
    "### Apagar Tabelas (USE APENAS SE APÓS FINALIZAR ANÁLISE!!!)"
   ]
  },
  {
   "cell_type": "code",
   "execution_count": null,
   "id": "c5fc2465",
   "metadata": {},
   "outputs": [],
   "source": [
    "try: \n",
    "    cur.execute(\"\"\"\n",
    "                DROP TABLE \n",
    "                    SalesOrderDetail, \n",
    "                    SpecialOfferProduct, \n",
    "                    SalesOrderHeader, \n",
    "                    Customer,\n",
    "                    Product,\n",
    "                    Person;\n",
    "                \"\"\")\n",
    "except psycopg2.Error as e: \n",
    "    print(\"Error: Dropping table\")\n",
    "    print (e)"
   ]
  },
  {
   "cell_type": "code",
   "execution_count": null,
   "id": "0e34d969",
   "metadata": {},
   "outputs": [],
   "source": []
  }
 ],
 "metadata": {
  "kernelspec": {
   "display_name": "Python 3",
   "language": "python",
   "name": "python3"
  }
 },
 "nbformat": 4,
 "nbformat_minor": 5
}
