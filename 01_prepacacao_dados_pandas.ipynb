{
 "cells": [
  {
   "cell_type": "markdown",
   "metadata": {},
   "source": [
    "## Preparação dos arquivos CSV para tipos compatíveis com o Schema"
   ]
  },
  {
   "cell_type": "code",
   "execution_count": null,
   "metadata": {},
   "outputs": [],
   "source": [
    "import pandas as pd\n",
    "import numpy as np\n",
    "from pathlib import Path\n",
    "\n",
    "pd.set_option('display.max_rows', 500)"
   ]
  },
  {
   "cell_type": "code",
   "execution_count": null,
   "metadata": {},
   "outputs": [],
   "source": [
    "origin = Path('raw_data')\n",
    "destiny = Path('data')"
   ]
  },
  {
   "cell_type": "markdown",
   "metadata": {},
   "source": [
    "#### Person"
   ]
  },
  {
   "cell_type": "code",
   "execution_count": null,
   "metadata": {},
   "outputs": [],
   "source": [
    "df = pd.read_csv(origin/'Person.Person.csv', sep=';', na_values=['NULL'])"
   ]
  },
  {
   "cell_type": "code",
   "execution_count": null,
   "metadata": {},
   "outputs": [],
   "source": [
    "df.to_csv(destiny/'Person.Person.csv', index=False, sep=';')"
   ]
  },
  {
   "cell_type": "markdown",
   "metadata": {},
   "source": [
    "#### Product"
   ]
  },
  {
   "cell_type": "code",
   "execution_count": null,
   "metadata": {},
   "outputs": [],
   "source": [
    "df = pd.read_csv(origin/'Production.Product.csv', sep=';', na_values=['NULL'])"
   ]
  },
  {
   "cell_type": "code",
   "execution_count": null,
   "metadata": {},
   "outputs": [],
   "source": [
    "df['ProductSubcategoryID'] = df['ProductSubcategoryID'].fillna(-1)\n",
    "df['ProductSubcategoryID'] = df['ProductSubcategoryID'].astype(int)\n",
    "df['ProductSubcategoryID'] = df['ProductSubcategoryID'].astype(str)\n",
    "df['ProductSubcategoryID'] = df['ProductSubcategoryID'].replace('-1', np.nan)\n",
    "\n",
    "df['ProductModelID'] = df['ProductModelID'].fillna(-1)\n",
    "df['ProductModelID'] = df['ProductModelID'].astype(int)\n",
    "df['ProductModelID'] = df['ProductModelID'].astype(str)\n",
    "df['ProductModelID'] = df['ProductModelID'].replace('-1', np.nan)"
   ]
  },
  {
   "cell_type": "code",
   "execution_count": null,
   "metadata": {},
   "outputs": [],
   "source": [
    "df['StandardCost'] = df['StandardCost'].str.replace(',', '.')\n",
    "df['ListPrice'] = df['ListPrice'].str.replace(',', '.')"
   ]
  },
  {
   "cell_type": "code",
   "execution_count": null,
   "metadata": {},
   "outputs": [],
   "source": [
    "df.to_csv(destiny/'Production.Product.csv', index=False, sep=';')"
   ]
  },
  {
   "cell_type": "markdown",
   "metadata": {},
   "source": [
    "#### Customer"
   ]
  },
  {
   "cell_type": "code",
   "execution_count": null,
   "metadata": {},
   "outputs": [],
   "source": [
    "df = pd.read_csv(origin/'Sales.Customer.csv', sep=';', na_values=['NULL'])"
   ]
  },
  {
   "cell_type": "code",
   "execution_count": null,
   "metadata": {},
   "outputs": [],
   "source": [
    "df['PersonID'] = df['PersonID'].fillna(-1)\n",
    "df['PersonID'] = df['PersonID'].astype(int)\n",
    "df['PersonID'] = df['PersonID'].astype(str)\n",
    "df['PersonID'] = df['PersonID'].replace('-1', np.nan)\n",
    "\n",
    "df['StoreID'] = df['StoreID'].fillna(-1)\n",
    "df['StoreID'] = df['StoreID'].astype(int)\n",
    "df['StoreID'] = df['StoreID'].astype(str)\n",
    "df['StoreID'] = df['StoreID'].replace('-1', np.nan)"
   ]
  },
  {
   "cell_type": "code",
   "execution_count": null,
   "metadata": {},
   "outputs": [],
   "source": [
    "df.to_csv(destiny/'Sales.Customer.csv', index=False, sep=';')"
   ]
  },
  {
   "cell_type": "markdown",
   "metadata": {},
   "source": [
    "#### SalesOrderHeader"
   ]
  },
  {
   "cell_type": "code",
   "execution_count": null,
   "metadata": {},
   "outputs": [],
   "source": [
    "df = pd.read_csv(origin/'Sales.SalesOrderHeader.csv', sep=';', na_values=['NULL'])"
   ]
  },
  {
   "cell_type": "code",
   "execution_count": null,
   "metadata": {},
   "outputs": [],
   "source": [
    "df['SalesPersonID'] = df['SalesPersonID'].fillna(-1)\n",
    "df['SalesPersonID'] = df['SalesPersonID'].astype(int)\n",
    "df['SalesPersonID'] = df['SalesPersonID'].astype(str)\n",
    "df['SalesPersonID'] = df['SalesPersonID'].replace('-1', np.nan)\n",
    "\n",
    "df['CreditCardID'] = df['CreditCardID'].fillna(-1)\n",
    "df['CreditCardID'] = df['CreditCardID'].astype(int)\n",
    "df['CreditCardID'] = df['CreditCardID'].astype(str)\n",
    "df['CreditCardID'] = df['CreditCardID'].replace('-1', np.nan)\n",
    "\n",
    "df['CurrencyRateID'] = df['CurrencyRateID'].fillna(-1)\n",
    "df['CurrencyRateID'] = df['CurrencyRateID'].astype(int)\n",
    "df['CurrencyRateID'] = df['CurrencyRateID'].astype(str)\n",
    "df['CurrencyRateID'] = df['CurrencyRateID'].replace('-1', np.nan)"
   ]
  },
  {
   "cell_type": "code",
   "execution_count": null,
   "metadata": {},
   "outputs": [],
   "source": [
    "df['SubTotal'] = df['SubTotal'].str.replace(',', '.')\n",
    "df['TaxAmt'] = df['TaxAmt'].str.replace(',', '.')\n",
    "df['Freight'] = df['Freight'].str.replace(',', '.')\n",
    "df['TotalDue'] = df['TotalDue'].str.replace(',', '.')"
   ]
  },
  {
   "cell_type": "code",
   "execution_count": null,
   "metadata": {},
   "outputs": [],
   "source": [
    "df.to_csv(destiny/'Sales.SalesOrderHeader.csv', index=False, sep=';')"
   ]
  },
  {
   "cell_type": "markdown",
   "metadata": {},
   "source": [
    "#### SpecialOfferProduct"
   ]
  },
  {
   "cell_type": "code",
   "execution_count": null,
   "metadata": {},
   "outputs": [],
   "source": [
    "df = pd.read_csv(origin/'Sales.SpecialOfferProduct.csv', sep=';', na_values=['NULL'])"
   ]
  },
  {
   "cell_type": "code",
   "execution_count": null,
   "metadata": {},
   "outputs": [],
   "source": [
    "df.to_csv(destiny/'Sales.SpecialOfferProduct.csv', index=False, sep=';')"
   ]
  },
  {
   "cell_type": "markdown",
   "metadata": {},
   "source": [
    "#### SalesOrderDetail"
   ]
  },
  {
   "cell_type": "code",
   "execution_count": null,
   "metadata": {},
   "outputs": [],
   "source": [
    "df = pd.read_csv(origin/'Sales.SalesOrderDetail.csv', sep=';', na_values=['NULL'])"
   ]
  },
  {
   "cell_type": "code",
   "execution_count": null,
   "metadata": {},
   "outputs": [],
   "source": [
    "df['UnitPrice'] = df['UnitPrice'].str.replace(',', '.')\n",
    "df['UnitPriceDiscount'] = df['UnitPriceDiscount'].str.replace(',', '.')"
   ]
  },
  {
   "cell_type": "code",
   "execution_count": null,
   "metadata": {},
   "outputs": [],
   "source": [
    "df.to_csv(destiny/'Sales.SalesOrderDetail.csv', index=False, sep=';')"
   ]
  },
  {
   "cell_type": "code",
   "execution_count": null,
   "metadata": {},
   "outputs": [],
   "source": []
  },
  {
   "cell_type": "code",
   "execution_count": null,
   "metadata": {},
   "outputs": [],
   "source": []
  }
 ],
 "metadata": {
  "kernelspec": {
   "display_name": "Python 3",
   "language": "python",
   "name": "python3"
  }
 },
 "nbformat": 4,
 "nbformat_minor": 4
}
